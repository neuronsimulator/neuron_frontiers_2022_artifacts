{
 "cells": [
  {
   "cell_type": "code",
   "execution_count": null,
   "id": "governmental-delivery",
   "metadata": {},
   "outputs": [],
   "source": [
    "import csv\n",
    "import matplotlib\n",
    "import matplotlib.pyplot as plt\n",
    "import numpy as np\n",
    "import os"
   ]
  },
  {
   "cell_type": "code",
   "execution_count": null,
   "id": "qualified-audience",
   "metadata": {},
   "outputs": [],
   "source": [
    "matplotlib.rcdefaults()\n",
    "matplotlib.rc('text', usetex=True)\n",
    "matplotlib.rc('font', family='serif')\n",
    "#matplotlib.rcParams['text.latex.preamble'] = []\n",
    "fig_width = 6.97522 # \\textwidth in inches from Overleaf"
   ]
  },
  {
   "cell_type": "markdown",
   "id": "curious-radical",
   "metadata": {},
   "source": [
    "From Adam:\n",
    "\n",
    "Here is the data for a 3D ICS example, I've put the results on three lines;\n",
    "\n",
    "- trivial_thread_ics_dur_new_small.csv\n",
    "- trivial_thread_ics_dur_old_small.csv\n",
    "\n",
    "1. setup time (importing neuron, specifying the model)\n",
    "2. initialization time (call to finitialize)\n",
    "3. run-time\n"
   ]
  },
  {
   "cell_type": "code",
   "execution_count": null,
   "id": "developed-entry",
   "metadata": {},
   "outputs": [],
   "source": [
    "def read_data(dataset,nthreads=1):\n",
    "    setup = 0\n",
    "    init = 0\n",
    "    run = 0\n",
    "    nt = 1\n",
    "    with open(dataset) as f:\n",
    "        setup_data = [float(r) for r in f.readline().strip().split(',')]\n",
    "        while setup_data.pop(0) < nthreads:\n",
    "            if next_line := f.readline():\n",
    "                setup_data = [float(r) for r in next_line.strip().split(',')]\n",
    "            else:\n",
    "                return (0,0,0)\n",
    "\n",
    "        setup = np.mean(setup_data)\n",
    "        init = np.mean([float(r) \n",
    "                     for i, r in enumerate(f.readline().strip().split(',')) if i > 0])\n",
    "        run = np.mean([float(r) \n",
    "                     for i, r in enumerate(f.readline().strip().split(',')) if i > 0])\n",
    "    return setup, init, run\n",
    "\n",
    "intra_cell_diff_new = read_data('trivial_thread_ics_dur_new_small.csv',8)\n",
    "intra_cell_diff_old = read_data('trivial_thread_ics_dur_old_small.csv')"
   ]
  },
  {
   "cell_type": "code",
   "execution_count": null,
   "id": "quality-router",
   "metadata": {},
   "outputs": [],
   "source": [
    "intra_cell_diff_new"
   ]
  },
  {
   "cell_type": "markdown",
   "id": "absent-boulder",
   "metadata": {},
   "source": [
    "from early manuscript draft (January 2022)\n",
    "\n",
    "- circadian model 32.9 --> 1.9 s\n",
    "- voxelization: 23.4 --> 6.1 s"
   ]
  },
  {
   "cell_type": "code",
   "execution_count": null,
   "id": "exotic-tackle",
   "metadata": {},
   "outputs": [],
   "source": [
    "circadian_speedup = 32.9 / 1.9\n",
    "voxelization_speedup = 23.4 / 6.1\n",
    "intra_cell_speedup = intra_cell_diff_old[2] / intra_cell_diff_new[2]\n",
    "\n",
    "speedups = (circadian_speedup, intra_cell_speedup, voxelization_speedup)\n",
    "\n",
    "rxd_bars = plt.bar([0, 1, 2], speedups)\n",
    "plt.bar_label(rxd_bars, [\"%.1f\"%s for s in speedups])\n",
    "plt.xticks([0,1,2], [\"Circadian Rythm model\", \"3D Intracellular diffusion\\n@ 8 threads\", \"Voxelization\"])\n",
    "plt.ylabel(r\"Speedup [$\\times$ NEURON 7.6.7]\")\n",
    "plt.savefig(\"rxd_speedups.pdf\", bbox_inches='tight')"
   ]
  }
 ],
 "metadata": {
  "kernelspec": {
   "display_name": "Python 3",
   "language": "python",
   "name": "python3"
  },
  "language_info": {
   "codemirror_mode": {
    "name": "ipython",
    "version": 3
   },
   "file_extension": ".py",
   "mimetype": "text/x-python",
   "name": "python",
   "nbconvert_exporter": "python",
   "pygments_lexer": "ipython3"
  }
 },
 "nbformat": 4,
 "nbformat_minor": 5
}
